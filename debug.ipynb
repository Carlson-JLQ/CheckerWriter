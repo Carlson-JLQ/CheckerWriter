{
 "cells": [
  {
   "cell_type": "code",
   "execution_count": null,
   "id": "c93f0a9b",
   "metadata": {},
   "outputs": [
    {
     "ename": "NameError",
     "evalue": "name '__file__' is not defined",
     "output_type": "error",
     "traceback": [
      "\u001b[0;31m---------------------------------------------------------------------------\u001b[0m",
      "\u001b[0;31mNameError\u001b[0m                                 Traceback (most recent call last)",
      "Cell \u001b[0;32mIn[4], line 23\u001b[0m\n\u001b[1;32m     21\u001b[0m         os\u001b[38;5;241m.\u001b[39mchdir(pwd)\n\u001b[1;32m     22\u001b[0m     \u001b[38;5;28;01mreturn\u001b[39;00m success\n\u001b[0;32m---> 23\u001b[0m current_file \u001b[38;5;241m=\u001b[39m os\u001b[38;5;241m.\u001b[39mpath\u001b[38;5;241m.\u001b[39mabspath(\u001b[38;5;18;43m__file__\u001b[39;49m)\n\u001b[1;32m     24\u001b[0m current_dir \u001b[38;5;241m=\u001b[39m os\u001b[38;5;241m.\u001b[39mpath\u001b[38;5;241m.\u001b[39mdirname(current_file)\n\u001b[1;32m     25\u001b[0m RELATIVE_PATH \u001b[38;5;241m=\u001b[39m os\u001b[38;5;241m.\u001b[39mpath\u001b[38;5;241m.\u001b[39mjoin(current_dir, \u001b[38;5;124m\"\u001b[39m\u001b[38;5;124mutils\u001b[39m\u001b[38;5;124m\"\u001b[39m)\n",
      "\u001b[0;31mNameError\u001b[0m: name '__file__' is not defined"
     ]
    }
   ],
   "source": [
    "import os\n",
    "from subprocess import check_output, STDOUT, CalledProcessError\n",
    "from typing import Optional\n",
    "def jar_run(command: list[str], cwd: str):\n",
    "    \"\"\"\n",
    "    if the forth parameter is 'checker', it is judging whether the checker code is syntax correct;\n",
    "    if the forth parameter is 'tetscase', it is transforming source code of test case into PMD-style AST.\n",
    "    :param command:\n",
    "    :param cwd:\n",
    "    :return:\n",
    "    \"\"\"\n",
    "    pwd = os.getcwd()\n",
    "    try:\n",
    "        if cwd is not None:\n",
    "            os.chdir(cwd)\n",
    "        check_output(command, stderr=STDOUT, cwd=cwd, shell=True)\n",
    "        success = True\n",
    "    except CalledProcessError as e:\n",
    "        success = False\n",
    "    finally:\n",
    "        os.chdir(pwd)\n",
    "    return success\n",
    "# current_file = os.path.abspath(__file__)\n",
    "current_dir = os.path.dirname(current_file)\n",
    "RELATIVE_PATH = os.path.join(current_dir, \"utils\")\n",
    "checker_syntax_correct = jar_run(\n",
    "                    [\n",
    "                        \"java -jar PMD-Style-ASTParser.jar checker checker.txt checker_ast.txt\"],\n",
    "                    RELATIVE_PATH)\n",
    "                    \n",
    "print(f\"checker_syntax_correct: {checker_syntax_correct}\")"
   ]
  }
 ],
 "metadata": {
  "kernelspec": {
   "display_name": "AutoChecker",
   "language": "python",
   "name": "python3"
  },
  "language_info": {
   "codemirror_mode": {
    "name": "ipython",
    "version": 3
   },
   "file_extension": ".py",
   "mimetype": "text/x-python",
   "name": "python",
   "nbconvert_exporter": "python",
   "pygments_lexer": "ipython3",
   "version": "3.9.12"
  }
 },
 "nbformat": 4,
 "nbformat_minor": 5
}
